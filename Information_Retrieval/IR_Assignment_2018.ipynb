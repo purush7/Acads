{
 "cells": [
  {
   "cell_type": "markdown",
   "metadata": {},
   "source": [
    "# Accurately Detecting Trolls in Slashdot Zoo via Decluttering"
   ]
  },
  {
   "cell_type": "markdown",
   "metadata": {},
   "source": [
    "## Information Reterival\n",
    "### Project Done by:\n",
    "#### Padma Sai J (2016A7PS0084P)\n",
    "#### Purushotham (2016A7PS0025P)\n",
    "#### Raghavendra (2016A7PSPS0107)"
   ]
  },
  {
   "cell_type": "markdown",
   "metadata": {},
   "source": [
    "Header files"
   ]
  },
  {
   "cell_type": "code",
   "execution_count": 2,
   "metadata": {},
   "outputs": [],
   "source": [
    "import networkx as nx\n",
    "import matplotlib.pyplot as plt\n",
    "import numpy as np\n",
    "from sklearn.metrics import average_precision_score\n",
    "%matplotlib inline"
   ]
  },
  {
   "cell_type": "code",
   "execution_count": null,
   "metadata": {},
   "outputs": [],
   "source": [
    "# To Get Input from filename"
   ]
  },
  {
   "cell_type": "code",
   "execution_count": 3,
   "metadata": {},
   "outputs": [],
   "source": [
    "def get_input(filename):\n",
    "    G=nx.DiGraph()\n",
    "    G=nx.read_weighted_edgelist(filename,comments=\"%\",nodetype=int)\n",
    "    return G\n",
    "G=get_input(\"./out.matrix\")"
   ]
  },
  {
   "cell_type": "code",
   "execution_count": null,
   "metadata": {},
   "outputs": [],
   "source": [
    "# we took given below T as testcase1 mentioned in paper"
   ]
  },
  {
   "cell_type": "code",
   "execution_count": 5,
   "metadata": {},
   "outputs": [],
   "source": [
    "T=nx.DiGraph()\n",
    "T.add_nodes_from([1,2,3,4,5,6])\n",
    "T.add_weighted_edges_from([(1,2,-1),(1,3,1),(1,6,1),(2,3,1),(2,5,-1)])\n",
    "T.add_weighted_edges_from([(3,1,1),(3,2,1),(3,5,-1),(4,1,1),(4,3,-1)])\n",
    "T.add_weighted_edges_from([(5,3,-1),(5,4,1),(6,1,-1),(6,2,1),(6,3,-1)])"
   ]
  },
  {
   "cell_type": "code",
   "execution_count": null,
   "metadata": {},
   "outputs": [],
   "source": [
    "# Representation of T mentioned above"
   ]
  },
  {
   "cell_type": "code",
   "execution_count": 13,
   "metadata": {
    "scrolled": true
   },
   "outputs": [
    {
     "data": {
      "image/png": "[encoded data removed]",
      "text/plain": [
       "<Figure size 432x288 with 1 Axes>"
      ]
     },
     "metadata": {},
     "output_type": "display_data"
    }
   ],
   "source": [
    "nx.draw_circular(T,with_labels=True)"
   ]
  },
  {
   "cell_type": "code",
   "execution_count": 44,
   "metadata": {},
   "outputs": [],
   "source": [
    "# centrality Freak score"
   ]
  },
  {
   "cell_type": "code",
   "execution_count": 43,
   "metadata": {
    "scrolled": true
   },
   "outputs": [],
   "source": [
    "def Freak_score(G):\n",
    "    res={}\n",
    "    for i in G.nodes():\n",
    "        l=len([(u,v) for (u,v,d) in G.edges(data=True) if d[\"weight\"]==-1 and u==i])\n",
    "        res[i]=-1*l\n",
    "    return res\n"
   ]
  },
  {
   "cell_type": "code",
   "execution_count": null,
   "metadata": {},
   "outputs": [],
   "source": [
    "# centrality FMF score"
   ]
  },
  {
   "cell_type": "code",
   "execution_count": 31,
   "metadata": {},
   "outputs": [],
   "source": [
    "def FMF_score(G):\n",
    "    res={}\n",
    "    for i in G.nodes():\n",
    "        p=len([(u,v) for (u,v,d) in G.in_edges(i,data=True) if d[\"weight\"]==1])\n",
    "        n=len([(u,v) for (u,v,d) in G.in_edges(i,data=True) if d[\"weight\"]==-1])\n",
    "        res[i]=p-n\n",
    "    return res"
   ]
  },
  {
   "cell_type": "code",
   "execution_count": null,
   "metadata": {},
   "outputs": [],
   "source": [
    "# centrality Prestige score"
   ]
  },
  {
   "cell_type": "code",
   "execution_count": 33,
   "metadata": {},
   "outputs": [],
   "source": [
    "def Prestige_score(G):\n",
    "    res={}\n",
    "    l=FMF_score(G)\n",
    "    for u in l:\n",
    "        res[u]=round(l[u]/len(G.in_edges(u)),2)\n",
    "    return res"
   ]
  },
  {
   "cell_type": "code",
   "execution_count": null,
   "metadata": {},
   "outputs": [],
   "source": [
    "# centrality MPR score"
   ]
  },
  {
   "cell_type": "code",
   "execution_count": 35,
   "metadata": {},
   "outputs": [],
   "source": [
    "def MPR_score(G):\n",
    "    res={}\n",
    "    e1=[(u,v) for (u,v,d) in G.edges(data=True) if d[\"weight\"]==1]\n",
    "    e2=[(u,v) for (u,v,d) in G.edges(data=True) if d[\"weight\"]==-1]\n",
    "    h1=G.edge_subgraph(e1)\n",
    "    h2=G.edge_subgraph(e2)\n",
    "    p=nx.pagerank(h1,0.85)\n",
    "    n=nx.pagerank(h2,0.85)\n",
    "    for i in G.nodes():\n",
    "        res[i]=round(p[i]-n[i],2)\n",
    "    return res\n"
   ]
  },
  {
   "cell_type": "code",
   "execution_count": null,
   "metadata": {},
   "outputs": [],
   "source": [
    "\n",
    "    # centrality SEC score"
   ]
  },
  {
   "cell_type": "code",
   "execution_count": 37,
   "metadata": {},
   "outputs": [],
   "source": [
    "def SEC_score(G):\n",
    "    \n",
    "    res={}\n",
    "    e1=[(u,v) for (u,v,d) in G.edges(data=True) if d[\"weight\"]==1]\n",
    "    e2=[(u,v) for (u,v,d) in G.edges(data=True) if d[\"weight\"]==-1]\n",
    "    h1=G.edge_subgraph(e1)\n",
    "    \n",
    "    \n",
    "    p=nx.eigenvector_centrality(h1)\n",
    "   \n",
    "    for i in G.nodes():\n",
    "        res[i]=round(p[i],2)\n",
    "    return res    "
   ]
  },
  {
   "cell_type": "code",
   "execution_count": null,
   "metadata": {},
   "outputs": [],
   "source": [
    "# centrality MHits"
   ]
  },
  {
   "cell_type": "code",
   "execution_count": 41,
   "metadata": {},
   "outputs": [],
   "source": [
    "def M_HITS(G):\n",
    "    res={}\n",
    "    h1=G.copy()\n",
    "    h2=G.copy()\n",
    "    for i in h1.edges(data=True):\n",
    "        if i[2][\"weight\"]==-1:\n",
    "            i[2][\"weight\"]=None\n",
    "    for i in h2.edges(data=True):\n",
    "        if i[2][\"weight\"]==1:\n",
    "            i[2][\"weight\"]=None\n",
    "    \n",
    "    p,a1=nx.hits_numpy(h1)\n",
    "    n,a2=nx.hits_numpy(h2)\n",
    "    for i in G.nodes():\n",
    "        res[i]=a1[i]-a2[i]\n",
    "    return res"
   ]
  },
  {
   "cell_type": "code",
   "execution_count": null,
   "metadata": {},
   "outputs": [],
   "source": [
    "# decluttering (a)\n",
    "    "
   ]
  },
  {
   "cell_type": "code",
   "execution_count": 45,
   "metadata": {},
   "outputs": [],
   "source": [
    "def DOP_a(G,benign):\n",
    "    for i in benign:\n",
    "        for j in benign:\n",
    "            if i!=j:\n",
    "                if G.has_edge(i,j) and G.has_edge(j,i):\n",
    "                    if G[i][j][\"weight\"]==1 and G[j][i][\"weight\"]==1:\n",
    "                        G.remove_edge(i,j)\n",
    "                        G.remove_edge(j,i)\n",
    "    return G"
   ]
  },
  {
   "cell_type": "code",
   "execution_count": null,
   "metadata": {},
   "outputs": [],
   "source": [
    "# decluttering (b)"
   ]
  },
  {
   "cell_type": "code",
   "execution_count": 46,
   "metadata": {},
   "outputs": [],
   "source": [
    "def DOP_b(G,benign):\n",
    "    #print(G)\n",
    "    for i in benign:\n",
    "        for j in benign:\n",
    "            if i!=j:\n",
    "                #print(i,j)\n",
    "                if G.has_edge(i,j) and G.has_edge(j,i):\n",
    "                    if G[i][j][\"weight\"]==-1 and G[j][i][\"weight\"]==-1:\n",
    "                        G.remove_edge(i,j)\n",
    "                        G.remove_edge(j,i)\n",
    "    return G"
   ]
  },
  {
   "cell_type": "code",
   "execution_count": null,
   "metadata": {},
   "outputs": [],
   "source": [
    "# decluttering (c)"
   ]
  },
  {
   "cell_type": "code",
   "execution_count": 25,
   "metadata": {},
   "outputs": [],
   "source": [
    "def DOP_c(G,benign):\n",
    "    for i in benign:\n",
    "        for j in benign:\n",
    "            if i!=j:\n",
    "                if G.has_edge(i,j) and G.has_edge(j,i):\n",
    "                    if (G[i][j][\"weight\"]==-1 and G[j][i][\"weight\"]==1) or (G[i][j][\"weight\"]==1 and G[j][i][\"weight\"]==-1):\n",
    "                        G.remove_edge(i,j)\n",
    "                        G.remove_edge(j,i)\n",
    "    return G"
   ]
  },
  {
   "cell_type": "code",
   "execution_count": null,
   "metadata": {},
   "outputs": [],
   "source": [
    "# decluttering (d)"
   ]
  },
  {
   "cell_type": "code",
   "execution_count": 26,
   "metadata": {},
   "outputs": [],
   "source": [
    "def DOP_d(G,benign):\n",
    "    for i in benign:\n",
    "        for j in benign:\n",
    "            if i!=j:\n",
    "                if G.has_edge(i,j) and G.has_edge(j,i):\n",
    "                    if (G[i][j][\"weight\"]==-1 and G[j][i][\"weight\"]==1):                        \n",
    "                        G.remove_edge(i,j)\n",
    "                    elif (G[i][j][\"weight\"]==1 and G[j][i][\"weight\"]==-1):\n",
    "                        G.remove_edge(j,i)\n",
    "    return G"
   ]
  },
  {
   "cell_type": "code",
   "execution_count": null,
   "metadata": {},
   "outputs": [],
   "source": [
    "# decluttering (e)"
   ]
  },
  {
   "cell_type": "code",
   "execution_count": 27,
   "metadata": {},
   "outputs": [],
   "source": [
    "def DOP_e(G,benign):\n",
    "    for i in benign:\n",
    "        for j in benign:\n",
    "            if i!=j:\n",
    "                if G.has_edge(i,j) and G.has_edge(j,i):\n",
    "                    if (G[i][j][\"weight\"]==-1 and G[j][i][\"weight\"]==1):                        \n",
    "                        G.remove_edge(j,i)\n",
    "                    elif (G[i][j][\"weight\"]==1 and G[j][i][\"weight\"]==-1):\n",
    "                        G.remove_edge(i,j)\n",
    "    return G"
   ]
  },
  {
   "cell_type": "code",
   "execution_count": null,
   "metadata": {},
   "outputs": [],
   "source": [
    "# TIA (Troll Identifiaction Algorithm) the main function with decluttering using a,b,c"
   ]
  },
  {
   "cell_type": "code",
   "execution_count": 51,
   "metadata": {},
   "outputs": [],
   "source": [
    "def TIA(G,centrality,cut_off):\n",
    "    while True:\n",
    "        G_copy=G.copy()\n",
    "        C=centrality(G)\n",
    "        benign=[v for v in G_copy.nodes() if C[v]>=cut_off]\n",
    "        Malicious = [x for x in G_copy.nodes() if x not in benign]\n",
    "        G=DOP_c(DOP_b(DOP_a(G_copy,benign),benign),benign)\n",
    "        em=nx.algorithms.isomorphism.numerical_edge_match('weight', 1)\n",
    "        if(nx.is_isomorphic(G,G_copy,edge_match=em)):\n",
    "            break\n",
    "    return C"
   ]
  },
  {
   "cell_type": "code",
   "execution_count": null,
   "metadata": {},
   "outputs": [],
   "source": [
    "# average precision takes y_true, It is a boolean array of whether node is benign or not\n",
    "#                    and  y_scores, scores obtained to each node by above algorithm"
   ]
  },
  {
   "cell_type": "code",
   "execution_count": null,
   "metadata": {},
   "outputs": [],
   "source": [
    "def Avg_precision(y_true,y_scores):\n",
    "    return average_precision_score(y_true, y_scores)"
   ]
  },
  {
   "cell_type": "code",
   "execution_count": null,
   "metadata": {},
   "outputs": [],
   "source": [
    "# checked TIA for a example input T mentioned at the start with centrality Freak score"
   ]
  },
  {
   "cell_type": "code",
   "execution_count": 49,
   "metadata": {},
   "outputs": [],
   "source": [
    "print(\"This is the output of graph T and with centrality Freak score\")\n",
    "print(TIA(T,Freak_score,0))"
   ]
  },
  {
   "cell_type": "code",
   "execution_count": null,
   "metadata": {},
   "outputs": [],
   "source": [
    "# checked TIA for a example input T mentioned at the start with centrality FMF score"
   ]
  },
  {
   "cell_type": "code",
   "execution_count": 50,
   "metadata": {},
   "outputs": [],
   "source": [
    "print(\"This is the output of graph T and with centrality FMF score\")\n",
    "print(TIA(T,FMF_score,0))"
   ]
  },
  {
   "cell_type": "code",
   "execution_count": null,
   "metadata": {},
   "outputs": [],
   "source": [
    "# checked TIA for a example input T mentioned at the start with centrality Prestige score"
   ]
  },
  {
   "cell_type": "code",
   "execution_count": 34,
   "metadata": {},
   "outputs": [
    {
     "name": "stdout",
     "output_type": "stream",
     "text": [
      "This is the output of graph T and with centrality Prestige score\n",
      "{1: 0.33, 2: 0.33, 3: -0.2, 4: 1.0, 5: -1.0, 6: 1.0}\n"
     ]
    }
   ],
   "source": [
    "print(\"This is the output of graph T and with centrality Prestige score\")\n",
    "print(TIA(T,Prestige_score,0))"
   ]
  },
  {
   "cell_type": "code",
   "execution_count": null,
   "metadata": {},
   "outputs": [],
   "source": [
    "# checked TIA for a example input T mentioned at the start with centrality MPR score"
   ]
  },
  {
   "cell_type": "code",
   "execution_count": 54,
   "metadata": {},
   "outputs": [],
   "source": [
    "print(\"This is the output of graph T and with centrality MPR score\")\n",
    "print(TIA(T,MPR_score,0))"
   ]
  },
  {
   "cell_type": "code",
   "execution_count": null,
   "metadata": {},
   "outputs": [],
   "source": [
    "# checked TIA for a example input T mentioned at the start with centrality SEC score"
   ]
  },
  {
   "cell_type": "code",
   "execution_count": 53,
   "metadata": {},
   "outputs": [],
   "source": [
    "print(\"This is the output of graph T and with centrality SEC score\")\n",
    "print(TIA(T,SEC_score,0.5))"
   ]
  },
  {
   "cell_type": "code",
   "execution_count": null,
   "metadata": {},
   "outputs": [],
   "source": [
    "# checked TIA for a testcase1 T mentioned at the start with centrality MHITS"
   ]
  },
  {
   "cell_type": "code",
   "execution_count": 52,
   "metadata": {},
   "outputs": [],
   "source": [
    "print(\"This is the output of graph T and with centrality  MHITS\")\n",
    "print(TIA(T, M_HITS,0))"
   ]
  },
  {
   "cell_type": "code",
   "execution_count": null,
   "metadata": {},
   "outputs": [],
   "source": [
    "# To run below i.e with dataset mentioned in paper. uncomment the line below and run it on Intel Xeon @ 2.3\n",
    "# GHz, 24GB RAM Linux machine as mentioned in paper"
   ]
  },
  {
   "cell_type": "code",
   "execution_count": null,
   "metadata": {},
   "outputs": [],
   "source": [
    "#print(TIA(G,Freak_score,0))"
   ]
  }
 ],
 "metadata": {
  "kernelspec": {
   "display_name": "Python 3",
   "language": "python",
   "name": "python3"
  },
  "language_info": {
   "codemirror_mode": {
    "name": "ipython",
    "version": 3
   },
   "file_extension": ".py",
   "mimetype": "text/x-python",
   "name": "python",
   "nbconvert_exporter": "python",
   "pygments_lexer": "ipython3",
   "version": "3.5.2"
  }
 },
 "nbformat": 4,
 "nbformat_minor": 2
}
